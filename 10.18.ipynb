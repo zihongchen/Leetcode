{
 "metadata": {
  "language_info": {
   "codemirror_mode": {
    "name": "ipython",
    "version": 3
   },
   "file_extension": ".py",
   "mimetype": "text/x-python",
   "name": "python",
   "nbconvert_exporter": "python",
   "pygments_lexer": "ipython3",
   "version": 3
  },
  "orig_nbformat": 2
 },
 "nbformat": 4,
 "nbformat_minor": 2,
 "cells": [
  {
   "cell_type": "code",
   "execution_count": null,
   "metadata": {},
   "outputs": [],
   "source": [
    "class Solution:\n",
    "    def numDecodings(self, s: str) -> int:\n",
    "        table = {}\n",
    "        for i in range(1,27):\n",
    "            table[str(i)] = 0\n",
    "        num = 0\n",
    "        dp = {}\n",
    "        num = self.helper(s,0,dp,table)\n",
    "        return num   \n",
    "    \n",
    "    def helper(self, s: str, idx: int, dp : dict, table: dict) -> int:\n",
    "        if idx in dp:\n",
    "            return dp[idx]\n",
    "        if idx >= len(s):\n",
    "            return 1\n",
    "            \n",
    "        if idx <= len(s)-2 and s[idx:idx+2] in table:\n",
    "            num = self.helper(s, idx+1, dp,table)+self.helper(s, idx+2, dp,table) \n",
    "        elif s[idx] in table:\n",
    "            num = self.helper(s, idx+1, dp,table)\n",
    "        else:\n",
    "            return 0\n",
    "        dp[idx] = num\n",
    "        return num\n",
    "        "
   ]
  }
 ]
}