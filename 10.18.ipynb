{
 "metadata": {
  "language_info": {
   "codemirror_mode": {
    "name": "ipython",
    "version": 3
   },
   "file_extension": ".py",
   "mimetype": "text/x-python",
   "name": "python",
   "nbconvert_exporter": "python",
   "pygments_lexer": "ipython3",
   "version": "3.8.5-final"
  },
  "orig_nbformat": 2,
  "kernelspec": {
   "name": "Python 3.8.5 64-bit",
   "display_name": "Python 3.8.5 64-bit",
   "metadata": {
    "interpreter": {
     "hash": "aee8b7b246df8f9039afb4144a1f6fd8d2ca17a180786b69acc140d282b71a49"
    }
   }
  }
 },
 "nbformat": 4,
 "nbformat_minor": 2,
 "cells": [
  {
   "cell_type": "code",
   "execution_count": null,
   "metadata": {},
   "outputs": [],
   "source": [
    "class Solution:\n",
    "    def numDecodings(self, s: str) -> int:\n",
    "        table = {}\n",
    "        for i in range(1,27):\n",
    "            table[str(i)] = 0\n",
    "        num = 0\n",
    "        dp = {}\n",
    "        num = self.helper(s,0,dp,table)\n",
    "        return num   \n",
    "    \n",
    "    def helper(self, s: str, idx: int, dp : dict, table: dict) -> int:\n",
    "        if idx in dp:\n",
    "            return dp[idx]\n",
    "        if idx >= len(s):\n",
    "            return 1\n",
    "            \n",
    "        if idx <= len(s)-2 and s[idx:idx+2] in table:\n",
    "            num = self.helper(s, idx+1, dp,table)+self.helper(s, idx+2, dp,table) \n",
    "        elif s[idx] in table:\n",
    "            num = self.helper(s, idx+1, dp,table)\n",
    "        else:\n",
    "            return 0\n",
    "        dp[idx] = num\n",
    "        return num\n",
    "        "
   ]
  },
  {
   "cell_type": "code",
   "execution_count": null,
   "metadata": {},
   "outputs": [],
   "source": [
    "\"\"\"\n",
    "public class Solution {\n",
    "    public int numDecodings(String s) {\n",
    "        if (s == null || s.length() == 0) {\n",
    "            return 0;\n",
    "        }\n",
    "        int n = s.length();\n",
    "        int[] dp = new int[n + 1];\n",
    "        dp[0] = 1;\n",
    "        dp[1] = s.charAt(0) != '0' ? 1 : 0;\n",
    "        for (int i = 2; i <= n; i++) {\n",
    "            int first = Integer.valueOf(s.substring(i - 1, i));\n",
    "            int second = Integer.valueOf(s.substring(i - 2, i));\n",
    "            if (first >= 1 && first <= 9) {\n",
    "               dp[i] += dp[i-1];  \n",
    "            }\n",
    "            if (second >= 10 && second <= 26) {\n",
    "                dp[i] += dp[i-2];\n",
    "            }\n",
    "        }\n",
    "        return dp[n];\n",
    "    }\n",
    "}\n",
    "\"\"\""
   ]
  },
  {
   "cell_type": "code",
   "execution_count": 1,
   "metadata": {},
   "outputs": [],
   "source": [
    "class Solution:\n",
    "    def __init__(self):\n",
    "        self.memo = {}\n",
    "\n",
    "    def recursive_with_memo(self, index, s) -> int:\n",
    "        # If you reach the end of the string\n",
    "        # Return 1 for success.\n",
    "        if index == len(s):\n",
    "            return 1\n",
    "\n",
    "        # If the string starts with a zero, it can't be decoded\n",
    "        if s[index] == '0':\n",
    "            return 0\n",
    "\n",
    "        if index == len(s)-1:\n",
    "            return 1\n",
    "\n",
    "        # Memoization is needed since we might encounter the same sub-string.\n",
    "        if index in self.memo:\n",
    "            return self.memo[index]\n",
    "\n",
    "        ans = self.recursive_with_memo(index+1, s) \\\n",
    "                + (self.recursive_with_memo(index+2, s) if (int(s[index : index+2]) <= 26) else 0)\n",
    "\n",
    "        # Save for memoization\n",
    "        self.memo[index] = ans\n",
    "\n",
    "        return ans\n",
    "\n",
    "    def numDecodings(self, s: str) -> int:\n",
    "        if not s:\n",
    "            return 0\n",
    "        return self.recursive_with_memo(0, s)"
   ]
  },
  {
   "cell_type": "code",
   "execution_count": null,
   "metadata": {},
   "outputs": [],
   "source": []
  }
 ]
}