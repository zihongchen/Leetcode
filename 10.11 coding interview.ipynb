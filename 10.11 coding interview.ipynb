{
 "metadata": {
  "language_info": {
   "codemirror_mode": {
    "name": "ipython",
    "version": 3
   },
   "file_extension": ".py",
   "mimetype": "text/x-python",
   "name": "python",
   "nbconvert_exporter": "python",
   "pygments_lexer": "ipython3",
   "version": "3.7.6-final"
  },
  "orig_nbformat": 2,
  "kernelspec": {
   "name": "Python 3.7.6 64-bit ('base': conda)",
   "display_name": "Python 3.7.6 64-bit ('base': conda)",
   "metadata": {
    "interpreter": {
     "hash": "9ee851f528419ec1d178bfabf0179552a1105f4c2840b94d83ba5a27dfb26453"
    }
   }
  }
 },
 "nbformat": 4,
 "nbformat_minor": 2,
 "cells": [
  {
   "cell_type": "code",
   "execution_count": 56,
   "metadata": {},
   "outputs": [],
   "source": [
    "def countWaysToSplit(s):\n",
    "    if len(s)< 3:\n",
    "        return 0\n",
    "    count = 0\n",
    "    for i in range(1,len(s)-1,1): # idx of a -> 0-len(a)-2\n",
    "        a = s[0:i]\n",
    "        for j in range(i+1,len(s),1):\n",
    "            b = s[i:j]\n",
    "            c = s[j:len(s)]\n",
    "\n",
    "            if a+b != b+c and a+b != c+a and b+c != c+a:\n",
    "                count += 1\n",
    "    return count \n",
    "        "
   ]
  },
  {
   "cell_type": "code",
   "execution_count": 57,
   "metadata": {},
   "outputs": [
    {
     "output_type": "stream",
     "name": "stdout",
     "text": [
      "x\nx\nxxxxxxxx\nlol\nx\nxx\nxxxxxxx\nlol\nx\nxxx\nxxxxxx\nlol\nx\nxxxx\nxxxxx\nlol\nx\nxxxxx\nxxxx\nlol\nx\nxxxxxx\nxxx\nlol\nx\nxxxxxxx\nxx\nlol\nx\nxxxxxxxx\nx\nlol\nxx\nx\nxxxxxxx\nlol\nxx\nxx\nxxxxxx\nlol\nxx\nxxx\nxxxxx\nlol\nxx\nxxxx\nxxxx\nlol\nxx\nxxxxx\nxxx\nlol\nxx\nxxxxxx\nxx\nlol\nxx\nxxxxxxx\nx\nlol\nxxx\nx\nxxxxxx\nlol\nxxx\nxx\nxxxxx\nlol\nxxx\nxxx\nxxxx\nlol\nxxx\nxxxx\nxxx\nlol\nxxx\nxxxxx\nxx\nlol\nxxx\nxxxxxx\nx\nlol\nxxxx\nx\nxxxxx\nlol\nxxxx\nxx\nxxxx\nlol\nxxxx\nxxx\nxxx\nlol\nxxxx\nxxxx\nxx\nlol\nxxxx\nxxxxx\nx\nlol\nxxxxx\nx\nxxxx\nlol\nxxxxx\nxx\nxxx\nlol\nxxxxx\nxxx\nxx\nlol\nxxxxx\nxxxx\nx\nlol\nxxxxxx\nx\nxxx\nlol\nxxxxxx\nxx\nxx\nlol\nxxxxxx\nxxx\nx\nlol\nxxxxxxx\nx\nxx\nlol\nxxxxxxx\nxx\nx\nlol\nxxxxxxxx\nx\nx\nlol\n"
     ]
    },
    {
     "output_type": "execute_result",
     "data": {
      "text/plain": [
       "24"
      ]
     },
     "metadata": {},
     "execution_count": 57
    }
   ],
   "source": [
    "countWaysToSplit(\"xxxxxxxxxx\")"
   ]
  },
  {
   "cell_type": "code",
   "execution_count": 4,
   "metadata": {},
   "outputs": [],
   "source": [
    "def maxArithmeticLength(a, b):\n",
    "    dA = {}\n",
    "    dB = {}\n",
    "    for i in a:\n",
    "        dA[i] = 0\n",
    "    for i in b:\n",
    "        dB[i] = 0\n",
    "    bound = a[1]-a[0]\n",
    "    maxNum = 0\n",
    "    for i in range(1,bound+1):\n",
    "        progress = i\n",
    "        num = 1\n",
    "        prev = a[0]\n",
    "        drawFromB = 0\n",
    "        while True:\n",
    "            current = prev+progress\n",
    "            print(current)\n",
    "            if current in dA:\n",
    "                prev = current\n",
    "                num += 1\n",
    "                continue\n",
    "            elif current in dB:\n",
    "                prev = current\n",
    "                num += 1\n",
    "                drawFromB += 1\n",
    "            else:\n",
    "                break\n",
    "         \n",
    "    if maxNum < num:\n",
    "        maxNum = num\n",
    "    if maxNum == 0:\n",
    "        return -1\n",
    "    return maxNum"
   ]
  },
  {
   "cell_type": "code",
   "execution_count": 5,
   "metadata": {},
   "outputs": [],
   "source": [
    "a = [7, 13]\n",
    "b = [1, 10, 16]"
   ]
  },
  {
   "cell_type": "code",
   "execution_count": null,
   "metadata": {},
   "outputs": [],
   "source": []
  },
  {
   "cell_type": "code",
   "execution_count": null,
   "metadata": {},
   "outputs": [],
   "source": []
  }
 ]
}