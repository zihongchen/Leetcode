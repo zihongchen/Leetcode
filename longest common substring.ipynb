{
 "metadata": {
  "language_info": {
   "codemirror_mode": {
    "name": "ipython",
    "version": 3
   },
   "file_extension": ".py",
   "mimetype": "text/x-python",
   "name": "python",
   "nbconvert_exporter": "python",
   "pygments_lexer": "ipython3",
   "version": "3.8.5-final"
  },
  "orig_nbformat": 2,
  "kernelspec": {
   "name": "Python 3.8.5 64-bit",
   "display_name": "Python 3.8.5 64-bit",
   "metadata": {
    "interpreter": {
     "hash": "aee8b7b246df8f9039afb4144a1f6fd8d2ca17a180786b69acc140d282b71a49"
    }
   }
  }
 },
 "nbformat": 4,
 "nbformat_minor": 2,
 "cells": [
  {
   "cell_type": "code",
   "execution_count": 1,
   "metadata": {},
   "outputs": [],
   "source": [
    "# first version of the solution\n",
    "# my momo is using dic, which takes O(n^3) space not too good \n",
    "class Solution:\n",
    "    def longestPalindrome(self, s: str) -> str:\n",
    "        if len(s) <=1:\n",
    "            return s\n",
    "        memo = {}\n",
    "        longest = ''\n",
    "        for i in range(len(s)-1):\n",
    "            for j in range(i, len(s)):\n",
    "                sub = s[i:j+1]\n",
    "                if self.helper(sub,memo):\n",
    "                    if len(sub) > len(longest):\n",
    "                        longest = sub\n",
    "                else:\n",
    "                    continue\n",
    "        return longest\n",
    "                    \n",
    "        \n",
    "        \n",
    "\n",
    " \n",
    "\n",
    "\n",
    "\n",
    "    def helper(self, s:str, memo : dict) -> bool:\n",
    "        if s in memo:\n",
    "            return memo[s]\n",
    "        if len(s) == 1 or len(s) == 0:\n",
    "            memo[s] = True\n",
    "            return True\n",
    "        if s[0] == s[-1]:\n",
    "            result = self.helper(s[1:-1],memo)\n",
    "            memo[s] = result\n",
    "            return result\n",
    "        else:\n",
    "            memo[s] = False\n",
    "            return False\n",
    "        \n",
    "        "
   ]
  },
  {
   "cell_type": "code",
   "execution_count": 2,
   "metadata": {},
   "outputs": [
    {
     "output_type": "execute_result",
     "data": {
      "text/plain": [
       "[[0, 0, 0], [0, 0, 0], [0, 0, 0]]"
      ]
     },
     "metadata": {},
     "execution_count": 2
    }
   ],
   "source": [
    "s = \"123\"\n",
    "[[0]*len(s) for i in range(len(s))]"
   ]
  },
  {
   "cell_type": "code",
   "execution_count": 17,
   "metadata": {},
   "outputs": [
    {
     "output_type": "execute_result",
     "data": {
      "text/plain": [
       "['sagsdfb',\n",
       " 'sagsdfd',\n",
       " 'fas',\n",
       " 4,\n",
       " 4,\n",
       " 5,\n",
       " 5,\n",
       " 6,\n",
       " 6,\n",
       " 7,\n",
       " 8,\n",
       " 9,\n",
       " 'b',\n",
       " 'c',\n",
       " 'd',\n",
       " 'd',\n",
       " 'e',\n",
       " 'e']"
      ]
     },
     "metadata": {},
     "execution_count": 17
    }
   ],
   "source": [
    "a = [6,5,4,9,8,7,6,5,4, \"e\",\"d\",\"b\",\"c\",\"e\",\"d\",\"sagsdfd\",\"fas\",\"sagsdfb\"]\n",
    "def sortKey(num):\n",
    "    if isinstance(num,int):\n",
    "        return (1,num)\n",
    "    else:\n",
    "        if len(num) > 1:\n",
    "            return (0, -len(num),num)\n",
    "        else:\n",
    "            return (2,num)\n",
    "\n",
    "sorted(a,key = sortKey )\n",
    "    "
   ]
  },
  {
   "cell_type": "code",
   "execution_count": null,
   "metadata": {},
   "outputs": [],
   "source": [
    "class Solution:\n",
    "    def reorderLogFiles(self, logs: List[str]) -> List[str]:\n",
    "        def sortKey(s):\n",
    "            id_,rest = s.split(\" \",maxsplit = 1)\n",
    "            if rest[0].isnumeric():\n",
    "                return (1,)\n",
    "            else:\n",
    "                return (0,rest, id_)\n",
    "        logs.sort(key = sortKey )\n",
    "        return logs\n",
    "        \n",
    "            "
   ]
  }
 ]
}