{
 "metadata": {
  "language_info": {
   "codemirror_mode": {
    "name": "ipython",
    "version": 3
   },
   "file_extension": ".py",
   "mimetype": "text/x-python",
   "name": "python",
   "nbconvert_exporter": "python",
   "pygments_lexer": "ipython3",
   "version": "3.7.6-final"
  },
  "orig_nbformat": 2,
  "kernelspec": {
   "name": "Python 3.7.6 64-bit ('base': conda)",
   "display_name": "Python 3.7.6 64-bit ('base': conda)",
   "metadata": {
    "interpreter": {
     "hash": "9ee851f528419ec1d178bfabf0179552a1105f4c2840b94d83ba5a27dfb26453"
    }
   }
  }
 },
 "nbformat": 4,
 "nbformat_minor": 2,
 "cells": [
  {
   "cell_type": "code",
   "execution_count": 94,
   "metadata": {},
   "outputs": [],
   "source": [
    "a = [[\"a\",\"c\",\"a\",\"b\",\"b\"], \n",
    " [\"c\",\"b\",\"a\",\"c\",\"b\"], \n",
    " [\"a\",\"a\",\"e\",\"c\",\"b\"], \n",
    " [\"b\",\"b\",\"d\",\"a\",\"g\"], \n",
    " [\"a\",\"b\",\"e\",\"b\",\"a\"]]\n"
   ]
  },
  {
   "cell_type": "code",
   "execution_count": 122,
   "metadata": {},
   "outputs": [],
   "source": [
    "''' point1 = []\n",
    "    for i in range(len(a)):\n",
    "        point1.append((i,0,i)) # rol, col priority   \n",
    "    point1 = point1[::-1]\n",
    "    point1.pop()\n",
    "    point2 = []\n",
    "    for i in range(len(a)):\n",
    "        point2.append((0,i,i+len(a))) # rol, col priority\n",
    "    point2 = point2[::-1]\n",
    "    point1 = point1+point2\n",
    "    '''\n",
    "\n",
    "\n",
    "\n",
    "\n",
    "def diagonalsArranging(a):\n",
    "    \n",
    "    def getD(row,col,priority):\n",
    "        lenD = 0\n",
    "        diagnal = []\n",
    "        while lenD < len(a):\n",
    "            startRow = row\n",
    "            startCol = col\n",
    "            while startRow< len(a) and startCol < len(a) and lenD < len(a):\n",
    "                #diagnal.append( (a[startRow][startCol],priority) )\n",
    "                diagnal.append(a[startRow][startCol])\n",
    "                lenD += 1\n",
    "                startRow += 1\n",
    "                startCol += 1\n",
    "            \n",
    "        diagnal.append(priority)\n",
    "        return diagnal\n",
    "\n",
    "\n",
    "    points = []\n",
    "    for idx,priority in zip(range(len(a)-1, 0,-1), range(1,len(a)+1,1)): # for zip, you have to have the same length or it would go with the shorter length\n",
    "        points.append((idx,0,priority))\n",
    "\n",
    "    for idx,priority in zip(range(len(a)),range(len(a))):\n",
    "        points.append((0,idx,priority+len(a)))\n",
    "    \n",
    "\n",
    "\n",
    "\n",
    "\n",
    "\n",
    "    result = []\n",
    "    for point in points:\n",
    "        #result.append(getD(point[0],point[1],point[2]))\n",
    "        result.append(getD(point[0],point[1],point[2]))\n",
    "\n",
    "    print(result)###\n",
    "    result.sort()\n",
    "    print(result)#####\n",
    "    target = []\n",
    "    for i in result:\n",
    "        target.append(i[-1])\n",
    "    return target    \n",
    "\n",
    "        "
   ]
  },
  {
   "cell_type": "code",
   "execution_count": 123,
   "metadata": {},
   "outputs": [
    {
     "output_type": "stream",
     "name": "stdout",
     "text": [
      "[['a', 'a', 'a', 'a', 'a', 1], ['b', 'b', 'b', 'b', 'b', 2], ['a', 'b', 'e', 'a', 'b', 3], ['c', 'a', 'd', 'b', 'c', 4], ['a', 'b', 'e', 'a', 'a', 5], ['c', 'a', 'c', 'g', 'c', 6], ['a', 'c', 'b', 'a', 'c', 7], ['b', 'b', 'b', 'b', 'b', 8], ['b', 'b', 'b', 'b', 'b', 9]]\n[['a', 'a', 'a', 'a', 'a', 1], ['a', 'b', 'e', 'a', 'a', 5], ['a', 'b', 'e', 'a', 'b', 3], ['a', 'c', 'b', 'a', 'c', 7], ['b', 'b', 'b', 'b', 'b', 2], ['b', 'b', 'b', 'b', 'b', 8], ['b', 'b', 'b', 'b', 'b', 9], ['c', 'a', 'c', 'g', 'c', 6], ['c', 'a', 'd', 'b', 'c', 4]]\n"
     ]
    },
    {
     "output_type": "execute_result",
     "data": {
      "text/plain": [
       "[1, 5, 3, 7, 2, 8, 9, 6, 4]"
      ]
     },
     "metadata": {},
     "execution_count": 123
    }
   ],
   "source": [
    "diagonalsArranging(a)"
   ]
  },
  {
   "cell_type": "code",
   "execution_count": 113,
   "metadata": {},
   "outputs": [],
   "source": [
    "a =[[\"a\",\"c\",\"a\",\"b\",\"b\"], \n",
    "    [\"c\",\"b\",\"a\",\"c\",\"b\"], \n",
    "    [\"a\",\"a\",\"e\",\"c\",\"b\"], \n",
    "    [\"b\",\"b\",\"d\",\"a\",\"g\"], \n",
    "    [\"a\",\"b\",\"e\",\"b\",\"a\"]]\n"
   ]
  },
  {
   "cell_type": "code",
   "execution_count": 114,
   "metadata": {},
   "outputs": [
    {
     "output_type": "stream",
     "name": "stdout",
     "text": [
      "[(4, 0, 1), (3, 0, 2), (2, 0, 3), (1, 0, 4), (0, 0, 5), (0, 1, 6), (0, 2, 7), (0, 3, 8), (0, 4, 9)]\n"
     ]
    }
   ],
   "source": [
    "points = []\n",
    "for idx,priority in zip(range(len(a)-1, 0,-1), range(1,len(a)+1,1)): # for zip, you have to have the same length or it would go with the shorter length\n",
    "    points.append((idx,0,priority))\n",
    "\n",
    "for idx,priority in zip(range(len(a)),range(len(a))):\n",
    "    points.append((0,idx,priority+len(a)))\n",
    "print(points)"
   ]
  },
  {
   "cell_type": "code",
   "execution_count": 118,
   "metadata": {},
   "outputs": [],
   "source": [
    "def getD(row,col,priority):\n",
    "    lenD = 0\n",
    "    diagnal = []\n",
    "    while lenD < len(a):\n",
    "        startRow = row\n",
    "        startCol = col\n",
    "        while startRow< len(a) and startCol < len(a) and lenD < len(a):\n",
    "            #diagnal.append( (a[startRow][startCol],priority) )\n",
    "            diagnal.append(a[startRow][startCol])\n",
    "            lenD += 1\n",
    "            startRow += 1\n",
    "            startCol += 1\n",
    "            \n",
    "    diagnal.append(priority)\n",
    "    return diagnal\n"
   ]
  },
  {
   "cell_type": "code",
   "execution_count": 129,
   "metadata": {},
   "outputs": [
    {
     "output_type": "stream",
     "name": "stdout",
     "text": [
      "This is a Dict:\n\na 1\nb 2\nc 3\nd 4\n\nThis is an Ordered Dict:\n\ne 2\na 1\nb 2\nc 3\nd 4\n"
     ]
    }
   ],
   "source": [
    "# A Python program to demonstrate working of OrderedDict \n",
    "from collections import OrderedDict \n",
    "  \n",
    "print(\"This is a Dict:\\n\") \n",
    "d = {} \n",
    "d['a'] = 1\n",
    "d['b'] = 2\n",
    "d['c'] = 3\n",
    "d['d'] = 4\n",
    "  \n",
    "for key, value in d.items(): \n",
    "    print(key, value) \n",
    "  \n",
    "print(\"\\nThis is an Ordered Dict:\\n\") \n",
    "od = OrderedDict() \n",
    "od['e'] = 1\n",
    "od['a'] = 1\n",
    "od['b'] = 2\n",
    "od['c'] = 3\n",
    "od['d'] = 4\n",
    "od['a'] = 1\n",
    "od['e'] = 2\n",
    "  \n",
    "for key, value in od.items(): \n",
    "    print(key, value) \n"
   ]
  },
  {
   "cell_type": "code",
   "execution_count": null,
   "metadata": {},
   "outputs": [],
   "source": [
    "class DLinkedNode(): \n",
    "    def __init__(self):\n",
    "        self.key = 0\n",
    "        self.value = 0\n",
    "        self.prev = None\n",
    "        self.next = None\n",
    "            \n",
    "class LRUCache():\n",
    "    def _add_node(self, node):\n",
    "        \"\"\"\n",
    "        Always add the new node right after head.\n",
    "        \"\"\"\n",
    "        node.prev = self.head\n",
    "        node.next = self.head.next\n",
    "\n",
    "        self.head.next.prev = node\n",
    "        self.head.next = node\n",
    "        \n",
    "    def _remove_node(self, node):\n",
    "        \"\"\"\n",
    "        Remove an existing node from the linked list.\n",
    "        \"\"\"\n",
    "        prev = node.prev\n",
    "        new = node.next\n",
    "\n",
    "        prev.next = new\n",
    "        new.prev = prev\n",
    "\n",
    "    def _move_to_head(self, node):\n",
    "        \"\"\"\n",
    "        Move certain node in between to the head.\n",
    "        \"\"\"\n",
    "        self._remove_node(node)\n",
    "        self._add_node(node)\n",
    "\n",
    "    def _pop_tail(self):\n",
    "        \"\"\"\n",
    "        Pop the current tail.\n",
    "        \"\"\"\n",
    "        res = self.tail.prev\n",
    "        self._remove_node(res)\n",
    "        return res\n",
    "\n",
    "    def __init__(self, capacity):\n",
    "        \"\"\"\n",
    "        :type capacity: int\n",
    "        \"\"\"\n",
    "        self.cache = {}\n",
    "        self.size = 0\n",
    "        self.capacity = capacity\n",
    "        self.head, self.tail = DLinkedNode(), DLinkedNode()\n",
    "\n",
    "        self.head.next = self.tail\n",
    "        self.tail.prev = self.head\n",
    "        \n",
    "\n",
    "    def get(self, key):\n",
    "        \"\"\"\n",
    "        :type key: int\n",
    "        :rtype: int\n",
    "        \"\"\"\n",
    "        node = self.cache.get(key, None)\n",
    "        if not node:\n",
    "            return -1\n",
    "\n",
    "        # move the accessed node to the head;\n",
    "        self._move_to_head(node)\n",
    "\n",
    "        return node.value\n",
    "\n",
    "    def put(self, key, value):\n",
    "        \"\"\"\n",
    "        :type key: int\n",
    "        :type value: int\n",
    "        :rtype: void\n",
    "        \"\"\"\n",
    "        node = self.cache.get(key)\n",
    "\n",
    "        if not node: \n",
    "            newNode = DLinkedNode()\n",
    "            newNode.key = key\n",
    "            newNode.value = value\n",
    "\n",
    "            self.cache[key] = newNode\n",
    "            self._add_node(newNode)\n",
    "\n",
    "            self.size += 1\n",
    "\n",
    "            if self.size > self.capacity:\n",
    "                # pop the tail\n",
    "                tail = self._pop_tail()\n",
    "                del self.cache[tail.key]\n",
    "                self.size -= 1\n",
    "        else:\n",
    "            # update the value.\n",
    "            node.value = value\n",
    "            self._move_to_head(node)"
   ]
  },
  {
   "cell_type": "code",
   "execution_count": 219,
   "metadata": {},
   "outputs": [],
   "source": [
    "# you can write to stdout for debugging purposes, e.g.\n",
    "# print(\"this is a debug message\")\n",
    "\n",
    "def solution(S):\n",
    "    num= 0\n",
    "    for i in range(len(S)):\n",
    "        table = [0]*26\n",
    "        prevUnique = 0\n",
    "        for j in range(i,len(S),1):\n",
    "            if prevUnique ==26:\n",
    "                num += prevUnique\n",
    "                continue\n",
    "            newChar = S[j]\n",
    "            if table[ord(newChar)-65] == 0:\n",
    "                table[ord(newChar)-65] = 1\n",
    "                prevUnique += 1\n",
    "                num += prevUnique\n",
    "\n",
    "            elif table[ord(newChar)-65] == 1: # the newChar is not unique\n",
    "                table[ord(newChar)-65] = 2\n",
    "                prevUnique -= 1\n",
    "                num += prevUnique\n",
    "            elif table[ord(newChar)-65] == 2: # the newChar is not unique\n",
    "                num += prevUnique\n",
    "\n",
    "\n",
    "    if num > (10**9 -7):\n",
    "        return num%(10**9 -7)\n",
    "    else:\n",
    "        return num"
   ]
  },
  {
   "cell_type": "code",
   "execution_count": 220,
   "metadata": {},
   "outputs": [
    {
     "output_type": "execute_result",
     "data": {
      "text/plain": [
       "27"
      ]
     },
     "metadata": {},
     "execution_count": 220
    }
   ],
   "source": [
    "S = \"ACAAAXX\"\n",
    "solution(S)\n"
   ]
  },
  {
   "cell_type": "code",
   "execution_count": 172,
   "metadata": {},
   "outputs": [
    {
     "output_type": "stream",
     "name": "stdout",
     "text": [
      "26\n"
     ]
    }
   ],
   "source": [
    "print(len([0]*26))"
   ]
  },
  {
   "cell_type": "code",
   "execution_count": 216,
   "metadata": {},
   "outputs": [],
   "source": [
    "# you can write to stdout for debugging purposes, e.g.\n",
    "# print(\"this is a debug message\")\n",
    "import string\n",
    "def solution(S):\n",
    "    # write your code in Python 3.6\n",
    "    \n",
    "    '''\n",
    "    num = 0\n",
    "    for i in range(len(S)):\n",
    "        table = [0]*26\n",
    "        prevUnique = 0\n",
    "        for j in range(i,len(S),1):\n",
    "            newChar = S[j]\n",
    "            if table[ord(newChar)-65] == 0:\n",
    "                table[ord(newChar)-65] = 1\n",
    "                prevUnique += 1\n",
    "                num += prevUnique\n",
    "\n",
    "            elif table[ord(newChar)-65] == 1: # the newChar is not unique\n",
    "                table[ord(newChar)-65] = 2\n",
    "                prevUnique -= 1\n",
    "                num += prevUnique\n",
    "            elif table[ord(newChar)-65] == 2: # the newChar is not unique\n",
    "                num += prevUnique\n",
    "\n",
    "    return num%(10**9 -7)\n",
    "    \n",
    "       table = {char:[-1,-1] for char in string.ascii_uppercase}\n",
    "    maxP = 0\n",
    "    for idx,char in enumerate(S):\n",
    "        a,b = table[char]\n",
    "        maxP+= (idx-b)*(b-a)\n",
    "        table[char] = [b,idx]\n",
    "    for char in table:\n",
    "        a,b = table[char]\n",
    "        maxP += (b-a)*(len(S)-b)\n",
    "    return maxP%(10**9 -7)\n",
    "    \n",
    "    \n",
    "    \n",
    "    \n",
    "    '''\n",
    "    table = {char:[-1,-1] for char in string.ascii_uppercase}\n",
    "    maxP = 0\n",
    "    for idx,char in enumerate(S):\n",
    "        a,b = table[char]\n",
    "        maxP+= (idx-b)*(b-a)\n",
    "        table[char] = [b,idx]\n",
    "    for char in table:\n",
    "        a,b = table[char]\n",
    "        maxP += (b-a)*(len(S)-b)\n",
    "    return maxP%(10**9 -7)\n",
    "    "
   ]
  },
  {
   "cell_type": "code",
   "execution_count": 199,
   "metadata": {},
   "outputs": [
    {
     "output_type": "execute_result",
     "data": {
      "text/plain": [
       "-6"
      ]
     },
     "metadata": {},
     "execution_count": 199
    }
   ],
   "source": [
    "a = [1,2,3,-1]\n",
    "slice(0,3,a)\n"
   ]
  },
  {
   "cell_type": "code",
   "execution_count": 203,
   "metadata": {},
   "outputs": [],
   "source": [
    "def maxProduct( nums):\n",
    "        if len(nums) == 0:\n",
    "            return 0\n",
    "\n",
    "        max_so_far = nums[0]\n",
    "        min_so_far = nums[0]\n",
    "        result = max_so_far\n",
    "\n",
    "        for i in range(1, len(nums)):\n",
    "            curr = nums[i]\n",
    "            temp_max = max(curr, max_so_far * curr, min_so_far * curr)\n",
    "            min_so_far = min(curr, max_so_far * curr, min_so_far * curr)\n",
    "\n",
    "            max_so_far = temp_max\n",
    "\n",
    "            result = max(max_so_far, result)\n",
    "\n",
    "        return result"
   ]
  },
  {
   "cell_type": "code",
   "execution_count": 204,
   "metadata": {},
   "outputs": [
    {
     "output_type": "execute_result",
     "data": {
      "text/plain": [
       "262.5"
      ]
     },
     "metadata": {},
     "execution_count": 204
    }
   ],
   "source": [
    "nums = [1.0, 0.1, -1.0, -7.0, 3.0, -5.0, -2.5, 0.0, 1.0]\n",
    "maxProduct(nums)\n"
   ]
  },
  {
   "cell_type": "code",
   "execution_count": 209,
   "metadata": {},
   "outputs": [],
   "source": [
    "def solution(A):\n",
    "    g_max = A[0]\n",
    "    g_min = A[0]\n",
    "    target = A[0]\n",
    "    for i in range(1,len(A)):\n",
    "        temp = max(g_max*A[i], g_min*A[i], A[i])\n",
    "        g_min = min(g_max*A[i], g_min*A[i], A[i])\n",
    "\n",
    "        g_max = temp\n",
    "\n",
    "        target = max(g_max,target)\n",
    "    \n",
    "    if target > 1000000000.0:\n",
    "        return 1000000000.0\n",
    "    else:\n",
    "        return target"
   ]
  },
  {
   "cell_type": "code",
   "execution_count": 210,
   "metadata": {},
   "outputs": [
    {
     "output_type": "execute_result",
     "data": {
      "text/plain": [
       "262.5"
      ]
     },
     "metadata": {},
     "execution_count": 210
    }
   ],
   "source": [
    "solution(nums)"
   ]
  },
  {
   "cell_type": "code",
   "execution_count": 212,
   "metadata": {},
   "outputs": [],
   "source": [
    "def slice(start, end, A):\n",
    "    product = None\n",
    "    for i in range(start, end+1,1):\n",
    "        if product == None:\n",
    "            product = A[i]\n",
    "        else:\n",
    "            product = product * A[i]"
   ]
  },
  {
   "cell_type": "code",
   "execution_count": 213,
   "metadata": {},
   "outputs": [
    {
     "output_type": "error",
     "ename": "NameError",
     "evalue": "name 'string' is not defined",
     "traceback": [
      "\u001b[0;31m---------------------------------------------------------------------------\u001b[0m",
      "\u001b[0;31mNameError\u001b[0m                                 Traceback (most recent call last)",
      "\u001b[0;32m<ipython-input-213-5b07586f482b>\u001b[0m in \u001b[0;36m<module>\u001b[0;34m\u001b[0m\n\u001b[0;32m----> 1\u001b[0;31m \u001b[0mprint\u001b[0m\u001b[0;34m(\u001b[0m\u001b[0;34m{\u001b[0m\u001b[0mchar\u001b[0m\u001b[0;34m:\u001b[0m\u001b[0;34m[\u001b[0m\u001b[0;34m-\u001b[0m\u001b[0;36m1\u001b[0m\u001b[0;34m,\u001b[0m\u001b[0;34m-\u001b[0m\u001b[0;36m1\u001b[0m\u001b[0;34m]\u001b[0m \u001b[0;32mfor\u001b[0m \u001b[0mchar\u001b[0m \u001b[0;32min\u001b[0m \u001b[0mstring\u001b[0m\u001b[0;34m.\u001b[0m\u001b[0mascii_uppercase\u001b[0m\u001b[0;34m}\u001b[0m\u001b[0;34m)\u001b[0m\u001b[0;34m\u001b[0m\u001b[0;34m\u001b[0m\u001b[0m\n\u001b[0m",
      "\u001b[0;31mNameError\u001b[0m: name 'string' is not defined"
     ]
    }
   ],
   "source": [
    "\n",
    "print({char:[-1,-1] for char in string.ascii_uppercase})"
   ]
  },
  {
   "cell_type": "code",
   "execution_count": 222,
   "metadata": {},
   "outputs": [
    {
     "output_type": "stream",
     "name": "stdout",
     "text": [
      "[2, 3]\n"
     ]
    }
   ],
   "source": [
    "a = [1,2,3]\n",
    "print(a[1::])"
   ]
  },
  {
   "cell_type": "code",
   "execution_count": 223,
   "metadata": {},
   "outputs": [
    {
     "output_type": "error",
     "ename": "TypeError",
     "evalue": "unsupported operand type(s) for -: 'list' and 'list'",
     "traceback": [
      "\u001b[0;31m---------------------------------------------------------------------------\u001b[0m",
      "\u001b[0;31mTypeError\u001b[0m                                 Traceback (most recent call last)",
      "\u001b[0;32m<ipython-input-223-e3356f058121>\u001b[0m in \u001b[0;36m<module>\u001b[0;34m\u001b[0m\n\u001b[1;32m      1\u001b[0m \u001b[0ma\u001b[0m \u001b[0;34m=\u001b[0m \u001b[0;34m[\u001b[0m\u001b[0;36m1\u001b[0m\u001b[0;34m,\u001b[0m\u001b[0;36m2\u001b[0m\u001b[0;34m,\u001b[0m\u001b[0;36m3\u001b[0m\u001b[0;34m]\u001b[0m\u001b[0;34m\u001b[0m\u001b[0;34m\u001b[0m\u001b[0m\n\u001b[1;32m      2\u001b[0m \u001b[0mb\u001b[0m \u001b[0;34m=\u001b[0m \u001b[0;34m[\u001b[0m\u001b[0;36m3\u001b[0m\u001b[0;34m,\u001b[0m\u001b[0;36m2\u001b[0m\u001b[0;34m,\u001b[0m\u001b[0;36m1\u001b[0m\u001b[0;34m]\u001b[0m\u001b[0;34m\u001b[0m\u001b[0;34m\u001b[0m\u001b[0m\n\u001b[0;32m----> 3\u001b[0;31m \u001b[0mprint\u001b[0m\u001b[0;34m(\u001b[0m\u001b[0ma\u001b[0m\u001b[0;34m-\u001b[0m\u001b[0mb\u001b[0m\u001b[0;34m)\u001b[0m\u001b[0;34m\u001b[0m\u001b[0;34m\u001b[0m\u001b[0m\n\u001b[0m",
      "\u001b[0;31mTypeError\u001b[0m: unsupported operand type(s) for -: 'list' and 'list'"
     ]
    }
   ],
   "source": [
    "a = [1,2,3]\n",
    "b = [3,2,1]\n",
    "print(a-b)"
   ]
  },
  {
   "cell_type": "code",
   "execution_count": null,
   "metadata": {},
   "outputs": [],
   "source": []
  }
 ]
}