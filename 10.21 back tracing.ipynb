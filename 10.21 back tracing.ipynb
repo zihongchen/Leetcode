{
 "metadata": {
  "language_info": {
   "codemirror_mode": {
    "name": "ipython",
    "version": 3
   },
   "file_extension": ".py",
   "mimetype": "text/x-python",
   "name": "python",
   "nbconvert_exporter": "python",
   "pygments_lexer": "ipython3",
   "version": 3
  },
  "orig_nbformat": 2
 },
 "nbformat": 4,
 "nbformat_minor": 2,
 "cells": [
  {
   "cell_type": "code",
   "execution_count": null,
   "metadata": {},
   "outputs": [],
   "source": [
    "class Solution:\n",
    "    def generateParenthesis(self, n: int) -> List[str]:\n",
    "        \"\"\"           \n",
    "        def helper(stack, l,r, string, result):\n",
    "            if l == 0 and r == 0:\n",
    "                result.append(string)\n",
    "                return 1\n",
    "            \n",
    "            else:\n",
    "                if stack !=0:\n",
    "                    helper(stack-1,l,r-1,string+\")\",result) \n",
    "                    helper(stack+1,l-1,r,string+\"(\", result)\n",
    "                else:\n",
    "                    helper(stack+1,l-1,r,string+\"(\", result)\n",
    "        stack = 0\n",
    "        l,r = n,n\n",
    "        string = \"\"\n",
    "        result = []\n",
    "        helper(stack, l,r, string, result)\n",
    "        return result\n",
    "        \n",
    "        \"\"\""
   ]
  }
 ]
}