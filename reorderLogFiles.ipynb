{
 "metadata": {
  "language_info": {
   "codemirror_mode": {
    "name": "ipython",
    "version": 3
   },
   "file_extension": ".py",
   "mimetype": "text/x-python",
   "name": "python",
   "nbconvert_exporter": "python",
   "pygments_lexer": "ipython3",
   "version": "3.8.5-final"
  },
  "orig_nbformat": 2,
  "kernelspec": {
   "name": "Python 3.8.5 64-bit",
   "display_name": "Python 3.8.5 64-bit",
   "metadata": {
    "interpreter": {
     "hash": "aee8b7b246df8f9039afb4144a1f6fd8d2ca17a180786b69acc140d282b71a49"
    }
   }
  }
 },
 "nbformat": 4,
 "nbformat_minor": 2,
 "cells": [
  {
   "cell_type": "code",
   "execution_count": null,
   "metadata": {},
   "outputs": [],
   "source": []
  },
  {
   "cell_type": "code",
   "execution_count": 1,
   "metadata": {},
   "outputs": [
    {
     "output_type": "execute_result",
     "data": {
      "text/plain": [
       "['sagsdfb',\n",
       " 'sagsdfd',\n",
       " 'fas',\n",
       " 4,\n",
       " 4,\n",
       " 5,\n",
       " 5,\n",
       " 6,\n",
       " 6,\n",
       " 7,\n",
       " 8,\n",
       " 9,\n",
       " 'b',\n",
       " 'c',\n",
       " 'd',\n",
       " 'd',\n",
       " 'e',\n",
       " 'e']"
      ]
     },
     "metadata": {},
     "execution_count": 1
    }
   ],
   "source": [
    "a = [6,5,4,9,8,7,6,5,4, \"e\",\"d\",\"b\",\"c\",\"e\",\"d\",\"sagsdfd\",\"fas\",\"sagsdfb\"]\n",
    "def sortKey(num):\n",
    "    if isinstance(num,int):\n",
    "        return (1,num)\n",
    "    else:\n",
    "        if len(num) > 1:\n",
    "            return (0, -len(num),num)\n",
    "        else:\n",
    "            return (2,num)\n",
    "\n",
    "sorted(a,key = sortKey )"
   ]
  },
  {
   "cell_type": "code",
   "execution_count": null,
   "metadata": {},
   "outputs": [],
   "source": [
    "class Solution:\n",
    "    def reorderLogFiles(self, logs: List[str]) -> List[str]:\n",
    "        def sortKey(s):\n",
    "            id_,rest = s.split(\" \",maxsplit = 1)\n",
    "            if rest[0].isnumeric():\n",
    "                return (1,)\n",
    "            else:\n",
    "                return (0,rest, id_)\n",
    "        logs.sort(key = sortKey )\n",
    "        return logs\n",
    "        \n",
    "            "
   ]
  }
 ]
}