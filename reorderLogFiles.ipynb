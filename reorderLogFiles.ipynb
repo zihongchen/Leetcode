{
 "metadata": {
  "language_info": {
   "codemirror_mode": {
    "name": "ipython",
    "version": 3
   },
   "file_extension": ".py",
   "mimetype": "text/x-python",
   "name": "python",
   "nbconvert_exporter": "python",
   "pygments_lexer": "ipython3",
   "version": "3.8.5-final"
  },
  "orig_nbformat": 2,
  "kernelspec": {
   "name": "Python 3.8.5 64-bit",
   "display_name": "Python 3.8.5 64-bit",
   "metadata": {
    "interpreter": {
     "hash": "aee8b7b246df8f9039afb4144a1f6fd8d2ca17a180786b69acc140d282b71a49"
    }
   }
  }
 },
 "nbformat": 4,
 "nbformat_minor": 2,
 "cells": [
  {
   "cell_type": "code",
   "execution_count": 7,
   "metadata": {},
   "outputs": [],
   "source": [
    "from typing import List"
   ]
  },
  {
   "cell_type": "code",
   "execution_count": 8,
   "metadata": {},
   "outputs": [
    {
     "output_type": "execute_result",
     "data": {
      "text/plain": [
       "['sagsdfb',\n",
       " 'sagsdfd',\n",
       " 'fas',\n",
       " 4,\n",
       " 4,\n",
       " 5,\n",
       " 5,\n",
       " 6,\n",
       " 6,\n",
       " 7,\n",
       " 8,\n",
       " 9,\n",
       " 'b',\n",
       " 'c',\n",
       " 'd',\n",
       " 'd',\n",
       " 'e',\n",
       " 'e']"
      ]
     },
     "metadata": {},
     "execution_count": 8
    }
   ],
   "source": [
    "a = [6,5,4,9,8,7,6,5,4, \"e\",\"d\",\"b\",\"c\",\"e\",\"d\",\"sagsdfd\",\"fas\",\"sagsdfb\"]\n",
    "def sortKey(num):\n",
    "    if isinstance(num,int):\n",
    "        return (1,num)\n",
    "    else:\n",
    "        if len(num) > 1:\n",
    "            return (0, -len(num),num)\n",
    "        else:\n",
    "            return (2,num)\n",
    "\n",
    "sorted(a,key = sortKey )"
   ]
  },
  {
   "cell_type": "code",
   "execution_count": 9,
   "metadata": {},
   "outputs": [],
   "source": [
    "class Solution:\n",
    "    def reorderLogFiles(self, logs: List[str]) -> List[str]:\n",
    "        def sortKey(s):\n",
    "            id_,rest = s.split(\" \",maxsplit = 1)\n",
    "            if rest[0].isnumeric():\n",
    "                return (1,)\n",
    "            else:\n",
    "                return (0,rest, id_)\n",
    "        logs.sort(key = sortKey )\n",
    "        return logs\n",
    "        \n",
    "            "
   ]
  },
  {
   "cell_type": "code",
   "execution_count": 10,
   "metadata": {},
   "outputs": [],
   "source": [
    "class Solution:\n",
    "    def numUniqueEmails(self, emails: List[str]) -> int:\n",
    "        sent = {}\n",
    "        for addr in emails:\n",
    "            s = \"\"\n",
    "            local,domain = addr.split(\"@\", maxsplit = 1)\n",
    "            \n",
    "            for i in local:\n",
    "                if i == \".\":\n",
    "                    continue\n",
    "                elif i == \"+\":\n",
    "                    break\n",
    "                else:\n",
    "                    s += i\n",
    "            s += \"@\"\n",
    "            s += domain\n",
    "            \n",
    "            if s not in sent:\n",
    "                sent[s] = 0\n",
    "        return len(sent)"
   ]
  },
  {
   "cell_type": "code",
   "execution_count": 11,
   "metadata": {},
   "outputs": [],
   "source": [
    "class Solution(object):\n",
    "    def numUniqueEmails(self, emails):\n",
    "        seen = set()\n",
    "        for email in emails:\n",
    "            local, domain = email.split('@')\n",
    "            if '+' in local:\n",
    "                local = local[:local.index('+')]\n",
    "            seen.add(local.replace('.','') + '@' + domain)\n",
    "        return len(seen)"
   ]
  },
  {
   "cell_type": "code",
   "execution_count": 15,
   "metadata": {},
   "outputs": [
    {
     "output_type": "error",
     "ename": "ValueError",
     "evalue": "too many values to unpack (expected 2)",
     "traceback": [
      "\u001b[0;31m---------------------------------------------------------------------------\u001b[0m",
      "\u001b[0;31mValueError\u001b[0m                                Traceback (most recent call last)",
      "\u001b[0;32m<ipython-input-15-fd56e1e2a93a>\u001b[0m in \u001b[0;36m<module>\u001b[0;34m\u001b[0m\n\u001b[1;32m      1\u001b[0m \u001b[0memail\u001b[0m \u001b[0;34m=\u001b[0m \u001b[0;34m\"12354213@12@3\"\u001b[0m\u001b[0;34m\u001b[0m\u001b[0;34m\u001b[0m\u001b[0m\n\u001b[0;32m----> 2\u001b[0;31m \u001b[0mlocal\u001b[0m\u001b[0;34m,\u001b[0m \u001b[0mdomain\u001b[0m \u001b[0;34m=\u001b[0m \u001b[0memail\u001b[0m\u001b[0;34m.\u001b[0m\u001b[0msplit\u001b[0m\u001b[0;34m(\u001b[0m\u001b[0;34m\"@\"\u001b[0m\u001b[0;34m)\u001b[0m\u001b[0;34m\u001b[0m\u001b[0;34m\u001b[0m\u001b[0m\n\u001b[0m",
      "\u001b[0;31mValueError\u001b[0m: too many values to unpack (expected 2)"
     ]
    }
   ],
   "source": [
    "email = \"12354213@12@3\"\n",
    "local, domain = email.split(\"@\")\n"
   ]
  },
  {
   "cell_type": "code",
   "execution_count": null,
   "metadata": {},
   "outputs": [],
   "source": []
  }
 ]
}